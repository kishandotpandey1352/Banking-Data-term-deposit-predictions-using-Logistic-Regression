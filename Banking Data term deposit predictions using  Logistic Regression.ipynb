{
 "cells": [
  {
   "cell_type": "markdown",
   "metadata": {},
   "source": [
    "## Data Exploration / About the Dataset: banking.csv "
   ]
  },
  {
   "cell_type": "markdown",
   "metadata": {},
   "source": [
    "The [dataset](https://archive.ics.uci.edu/ml/datasets/Bank+Marketing) comes from the UCI Machine Learning repository, and it is related to direct marketing campaigns (phone calls) of a Portuguese banking institution. The classification goal is to predict whether the client will subscribe (1/0) to a term deposit (variable y). The dataset can be downloaded from here (https://raw.githubusercontent.com/madmashup/targeted-marketing-predictive-engine/master/banking.csv)."
   ]
  },
  {
   "cell_type": "markdown",
   "metadata": {},
   "source": [
    "##### Input Variables\n",
    "1. age (numeric)\n",
    "2. job : type of job (categorical: “admin”, “blue-collar”, “entrepreneur”, “housemaid”, “management”, “retired”, “self-employed”, “services”, “student”, “technician”, “unemployed”, “unknown”)\n",
    "3. marital : marital status (categorical: “divorced”, “married”, “single”, “unknown”)\n",
    "4. education (categorical: “basic.4y”, “basic.6y”, “basic.9y”, “high.school”, “illiterate”, “professional.course”, “university.degree”, “unknown”)\n",
    "5. default: has credit in default? (categorical: “no”, “yes”, “unknown”)\n",
    "6. housing: has housing loan? (categorical: “no”, “yes”, “unknown”)\n",
    "7. loan: has personal loan? (categorical: “no”, “yes”, “unknown”)\n",
    "8. contact: contact communication type (categorical: “cellular”, “telephone”)\n",
    "9. month: last contact month of year (categorical: “jan”, “feb”, “mar”, …, “nov”, “dec”)\n",
    "10. day_of_week: last contact day of the week (categorical: “mon”, “tue”, “wed”, “thu”, “fri”)\n",
    "11. duration: last contact duration, in seconds (numeric). Important note: this attribute highly affects the output target (e.g., if duration=0 then y=’no’). The duration is not known before a call is performed, also, after the end of the call, y is obviously known. Thus, this input should only be included for benchmark purposes and should be discarded if the intention is to have a realistic predictive model\n",
    "12. campaign: number of contacts performed during this campaign and for this client (numeric, includes last contact)\n",
    "13. pdays: number of days that passed by after the client was last contacted from a previous campaign (numeric; 999 means client was not previously contacted)\n",
    "14. previous: number of contacts performed before this campaign and for this client (numeric)\n",
    "15. poutcome: outcome of the previous marketing campaign (categorical: “failure”, “nonexistent”, “success”)\n",
    "16. emp.var.rate: employment variation rate — (numeric)\n",
    "17. cons.price.idx: consumer price index — (numeric)\n",
    "18. cons.conf.idx: consumer confidence index — (numeric)\n",
    "19. euribor3m: euribor 3 month rate — (numeric)\n",
    "20. nr.employed: number of employees — (numeric)"
   ]
  },
  {
   "cell_type": "markdown",
   "metadata": {},
   "source": [
    "##### Predict variable (desired target)\n",
    "y — has the client subscribed a term deposit? (binary: “1”, means “Yes”, “0” means “No”)"
   ]
  },
  {
   "cell_type": "markdown",
   "metadata": {},
   "source": [
    "### Importing packages and libraries"
   ]
  },
  {
   "cell_type": "code",
   "execution_count": 1,
   "metadata": {},
   "outputs": [],
   "source": [
    "import pandas as pd\n",
    "import numpy as np\n",
    "from sklearn import preprocessing #Every ML operations\n",
    "import matplotlib.pyplot as plt #for visualisation\n",
    "plt.rc(\"font\", size=14) #\n",
    "from sklearn.linear_model import LogisticRegression\n",
    "from sklearn.model_selection import train_test_split\n",
    "import seaborn as sns\n",
    "sns.set(style=\"white\")\n",
    "sns.set(style=\"whitegrid\", color_codes=True)"
   ]
  },
  {
   "cell_type": "markdown",
   "metadata": {},
   "source": [
    "### Exploring Dataset"
   ]
  },
  {
   "cell_type": "code",
   "execution_count": 2,
   "metadata": {},
   "outputs": [
    {
     "name": "stdout",
     "output_type": "stream",
     "text": [
      "(41188, 21)\n"
     ]
    }
   ],
   "source": [
    "data = pd.read_csv('Datasets\\\\banking.csv', header=0)#reading dataset\n",
    "#pd.read_csv('D:\\\\Case study BSE\\\\Datasets\\\\banking.csv', header=0, Null values)\n",
    "print(data.shape)\n",
    "#data = data.dropna(how =\"all\")# removes the that row with ALL null values, not a single"
   ]
  },
  {
   "cell_type": "code",
   "execution_count": 3,
   "metadata": {},
   "outputs": [
    {
     "data": {
      "text/plain": [
       "age               0\n",
       "job               0\n",
       "marital           0\n",
       "education         0\n",
       "default           0\n",
       "housing           0\n",
       "loan              0\n",
       "contact           0\n",
       "month             0\n",
       "day_of_week       0\n",
       "duration          0\n",
       "campaign          0\n",
       "pdays             0\n",
       "previous          0\n",
       "poutcome          0\n",
       "emp_var_rate      0\n",
       "cons_price_idx    0\n",
       "cons_conf_idx     0\n",
       "euribor3m         0\n",
       "nr_employed       0\n",
       "y                 0\n",
       "dtype: int64"
      ]
     },
     "execution_count": 3,
     "metadata": {},
     "output_type": "execute_result"
    }
   ],
   "source": [
    "data.isnull().sum()"
   ]
  },
  {
   "cell_type": "code",
   "execution_count": 4,
   "metadata": {},
   "outputs": [
    {
     "name": "stdout",
     "output_type": "stream",
     "text": [
      "(41188, 21)\n",
      "['age', 'job', 'marital', 'education', 'default', 'housing', 'loan', 'contact', 'month', 'day_of_week', 'duration', 'campaign', 'pdays', 'previous', 'poutcome', 'emp_var_rate', 'cons_price_idx', 'cons_conf_idx', 'euribor3m', 'nr_employed', 'y']\n"
     ]
    }
   ],
   "source": [
    "#Explore the missing values and dropping where all columns are empty\n",
    "#data = data.dropna(how =\"all\")\n",
    "print(data.shape)\n",
    "print(list(data.columns))"
   ]
  },
  {
   "cell_type": "markdown",
   "metadata": {},
   "source": [
    "The dataset provides the bank customers’ information. It includes 41,188 records and 21 fields."
   ]
  },
  {
   "cell_type": "markdown",
   "metadata": {},
   "source": [
    "##### EDA"
   ]
  },
  {
   "cell_type": "markdown",
   "metadata": {},
   "source": [
    "###### Barplot for the dependent variable"
   ]
  },
  {
   "cell_type": "markdown",
   "metadata": {},
   "source": [
    "#### Analysing few important colums arbitrarily"
   ]
  },
  {
   "cell_type": "code",
   "execution_count": 5,
   "metadata": {},
   "outputs": [
    {
     "data": {
      "image/png": "[encoded data removed]",
      "text/plain": [
       "<Figure size 432x288 with 1 Axes>"
      ]
     },
     "metadata": {
      "needs_background": "light"
     },
     "output_type": "display_data"
    }
   ],
   "source": [
    "sns.countplot(x='y',data=data, palette='hls')\n",
    "plt.show()"
   ]
  },
  {
   "cell_type": "markdown",
   "metadata": {},
   "source": [
    "##### Customer job distribution"
   ]
  },
  {
   "cell_type": "code",
   "execution_count": 6,
   "metadata": {},
   "outputs": [
    {
     "data": {
      "image/png": "[encoded data removed]",
      "text/plain": [
       "<Figure size 432x288 with 1 Axes>"
      ]
     },
     "metadata": {
      "needs_background": "light"
     },
     "output_type": "display_data"
    }
   ],
   "source": [
    "sns.countplot(y=\"job\", data=data)#sns.countplot(x=\"column\", orient)\n",
    "plt.show()"
   ]
  },
  {
   "cell_type": "markdown",
   "metadata": {},
   "source": [
    "###### Customer marital status distribution"
   ]
  },
  {
   "cell_type": "code",
   "execution_count": 7,
   "metadata": {},
   "outputs": [
    {
     "data": {
      "image/png": "[encoded data removed]",
      "text/plain": [
       "<Figure size 432x288 with 1 Axes>"
      ]
     },
     "metadata": {
      "needs_background": "light"
     },
     "output_type": "display_data"
    }
   ],
   "source": [
    "sns.countplot(x=\"marital\", data=data)\n",
    "plt.show()"
   ]
  },
  {
   "cell_type": "code",
   "execution_count": 8,
   "metadata": {},
   "outputs": [
    {
     "data": {
      "text/plain": [
       "married     24928\n",
       "single      11568\n",
       "divorced     4612\n",
       "unknown        80\n",
       "Name: marital, dtype: int64"
      ]
     },
     "execution_count": 8,
     "metadata": {},
     "output_type": "execute_result"
    }
   ],
   "source": [
    "data.marital.value_counts()"
   ]
  },
  {
   "cell_type": "code",
   "execution_count": 9,
   "metadata": {},
   "outputs": [
    {
     "data": {
      "text/plain": [
       "marital   y\n",
       "divorced  0     4136\n",
       "          1      476\n",
       "married   0    22396\n",
       "          1     2532\n",
       "single    0     9948\n",
       "          1     1620\n",
       "unknown   0       68\n",
       "          1       12\n",
       "Name: y, dtype: int64"
      ]
     },
     "execution_count": 9,
     "metadata": {},
     "output_type": "execute_result"
    }
   ],
   "source": [
    "data.groupby(\"marital\").y.value_counts()"
   ]
  },
  {
   "cell_type": "code",
   "execution_count": null,
   "metadata": {},
   "outputs": [],
   "source": [
    "#data.groupby(\"marital\").y.value_counts()/len(data.groupby(\"marital\")) to know in percentage"
   ]
  },
  {
   "cell_type": "markdown",
   "metadata": {},
   "source": [
    "###### Barplot for credit in default"
   ]
  },
  {
   "cell_type": "code",
   "execution_count": 10,
   "metadata": {},
   "outputs": [
    {
     "data": {
      "image/png": "[encoded data removed]",
      "text/plain": [
       "<Figure size 432x288 with 1 Axes>"
      ]
     },
     "metadata": {
      "needs_background": "light"
     },
     "output_type": "display_data"
    }
   ],
   "source": [
    "sns.countplot(x=\"default\", data=data)\n",
    "plt.show()"
   ]
  },
  {
   "cell_type": "code",
   "execution_count": null,
   "metadata": {},
   "outputs": [],
   "source": [
    "#sns.hist(x=data.groupby(\"y\").default) to do a distribution plot of the column y"
   ]
  },
  {
   "cell_type": "markdown",
   "metadata": {},
   "source": [
    "###### Barplot for housing loan"
   ]
  },
  {
   "cell_type": "code",
   "execution_count": 11,
   "metadata": {},
   "outputs": [
    {
     "data": {
      "image/png": "[encoded data removed]",
      "text/plain": [
       "<Figure size 432x288 with 1 Axes>"
      ]
     },
     "metadata": {
      "needs_background": "light"
     },
     "output_type": "display_data"
    }
   ],
   "source": [
    "sns.countplot(x=\"housing\", data=data)\n",
    "plt.show()"
   ]
  },
  {
   "cell_type": "markdown",
   "metadata": {},
   "source": [
    "###### Barplot for personal loan"
   ]
  },
  {
   "cell_type": "code",
   "execution_count": 12,
   "metadata": {},
   "outputs": [
    {
     "data": {
      "image/png": "[encoded data removed]",
      "text/plain": [
       "<Figure size 432x288 with 1 Axes>"
      ]
     },
     "metadata": {
      "needs_background": "light"
     },
     "output_type": "display_data"
    }
   ],
   "source": [
    "sns.countplot(x=\"loan\", data=data)\n",
    "plt.show()"
   ]
  },
  {
   "cell_type": "markdown",
   "metadata": {},
   "source": [
    "##### Barplot for previous marketing campaign outcome\n"
   ]
  },
  {
   "cell_type": "code",
   "execution_count": 13,
   "metadata": {},
   "outputs": [
    {
     "data": {
      "image/png": "[encoded data removed]",
      "text/plain": [
       "<Figure size 432x288 with 1 Axes>"
      ]
     },
     "metadata": {
      "needs_background": "light"
     },
     "output_type": "display_data"
    }
   ],
   "source": [
    "sns.countplot(x=\"poutcome\", data=data)\n",
    "plt.show()"
   ]
  },
  {
   "cell_type": "code",
   "execution_count": 14,
   "metadata": {},
   "outputs": [
    {
     "name": "stdout",
     "output_type": "stream",
     "text": [
      "<class 'pandas.core.frame.DataFrame'>\n",
      "RangeIndex: 41188 entries, 0 to 41187\n",
      "Data columns (total 21 columns):\n",
      "age               41188 non-null int64\n",
      "job               41188 non-null object\n",
      "marital           41188 non-null object\n",
      "education         41188 non-null object\n",
      "default           41188 non-null object\n",
      "housing           41188 non-null object\n",
      "loan              41188 non-null object\n",
      "contact           41188 non-null object\n",
      "month             41188 non-null object\n",
      "day_of_week       41188 non-null object\n",
      "duration          41188 non-null int64\n",
      "campaign          41188 non-null int64\n",
      "pdays             41188 non-null int64\n",
      "previous          41188 non-null int64\n",
      "poutcome          41188 non-null object\n",
      "emp_var_rate      41188 non-null float64\n",
      "cons_price_idx    41188 non-null float64\n",
      "cons_conf_idx     41188 non-null float64\n",
      "euribor3m         41188 non-null float64\n",
      "nr_employed       41188 non-null float64\n",
      "y                 41188 non-null int64\n",
      "dtypes: float64(5), int64(6), object(10)\n",
      "memory usage: 6.6+ MB\n"
     ]
    }
   ],
   "source": [
    "data.info()"
   ]
  },
  {
   "cell_type": "markdown",
   "metadata": {},
   "source": [
    "Our prediction will be based on the customer’s job, marital status, whether he(she) has credit in default, whether he(she) has a housing loan, whether he(she) has a personal loan, and the outcome of the previous marketing campaigns. So, we will drop the variables that we do not need."
   ]
  },
  {
   "cell_type": "code",
   "execution_count": 15,
   "metadata": {},
   "outputs": [],
   "source": [
    "data.drop(data.columns[[0, 3, 7, 8, 9, 10, 11, 12, 13, 15, 16, 17, 18, 19]], axis=1, inplace=True)"
   ]
  },
  {
   "cell_type": "markdown",
   "metadata": {},
   "source": [
    "### Data Preprocessing"
   ]
  },
  {
   "cell_type": "markdown",
   "metadata": {},
   "source": [
    "##### Create dummy variables, that is variables with only two values, zero and one.\n",
    "In logistic regression models, encoding all of the independent variables as dummy variables allows easy interpretation and calculation of the odds ratios, and increases the stability and significance of the coefficients."
   ]
  },
  {
   "cell_type": "markdown",
   "metadata": {},
   "source": [
    "#### pd.get_dummies() to convert categorical columns into numerical indicators"
   ]
  },
  {
   "cell_type": "code",
   "execution_count": 16,
   "metadata": {},
   "outputs": [],
   "source": [
    "data2=pd.get_dummies(data, columns = [\"job\",\"marital\",\"default\",\"housing\",\"loan\",\"poutcome\"])"
   ]
  },
  {
   "cell_type": "code",
   "execution_count": 17,
   "metadata": {},
   "outputs": [
    {
     "name": "stdout",
     "output_type": "stream",
     "text": [
      "<class 'pandas.core.frame.DataFrame'>\n",
      "RangeIndex: 41188 entries, 0 to 41187\n",
      "Data columns (total 29 columns):\n",
      "y                       41188 non-null int64\n",
      "job_admin.              41188 non-null uint8\n",
      "job_blue-collar         41188 non-null uint8\n",
      "job_entrepreneur        41188 non-null uint8\n",
      "job_housemaid           41188 non-null uint8\n",
      "job_management          41188 non-null uint8\n",
      "job_retired             41188 non-null uint8\n",
      "job_self-employed       41188 non-null uint8\n",
      "job_services            41188 non-null uint8\n",
      "job_student             41188 non-null uint8\n",
      "job_technician          41188 non-null uint8\n",
      "job_unemployed          41188 non-null uint8\n",
      "job_unknown             41188 non-null uint8\n",
      "marital_divorced        41188 non-null uint8\n",
      "marital_married         41188 non-null uint8\n",
      "marital_single          41188 non-null uint8\n",
      "marital_unknown         41188 non-null uint8\n",
      "default_no              41188 non-null uint8\n",
      "default_unknown         41188 non-null uint8\n",
      "default_yes             41188 non-null uint8\n",
      "housing_no              41188 non-null uint8\n",
      "housing_unknown         41188 non-null uint8\n",
      "housing_yes             41188 non-null uint8\n",
      "loan_no                 41188 non-null uint8\n",
      "loan_unknown            41188 non-null uint8\n",
      "loan_yes                41188 non-null uint8\n",
      "poutcome_failure        41188 non-null uint8\n",
      "poutcome_nonexistent    41188 non-null uint8\n",
      "poutcome_success        41188 non-null uint8\n",
      "dtypes: int64(1), uint8(28)\n",
      "memory usage: 1.4 MB\n"
     ]
    }
   ],
   "source": [
    "data2.info()#Analysing data"
   ]
  },
  {
   "cell_type": "code",
   "execution_count": 19,
   "metadata": {},
   "outputs": [
    {
     "name": "stdout",
     "output_type": "stream",
     "text": [
      "<class 'pandas.core.frame.DataFrame'>\n",
      "RangeIndex: 41188 entries, 0 to 41187\n",
      "Data columns (total 29 columns):\n",
      "y                       41188 non-null int64\n",
      "job_admin.              41188 non-null uint8\n",
      "job_blue-collar         41188 non-null uint8\n",
      "job_entrepreneur        41188 non-null uint8\n",
      "job_housemaid           41188 non-null uint8\n",
      "job_management          41188 non-null uint8\n",
      "job_retired             41188 non-null uint8\n",
      "job_self-employed       41188 non-null uint8\n",
      "job_services            41188 non-null uint8\n",
      "job_student             41188 non-null uint8\n",
      "job_technician          41188 non-null uint8\n",
      "job_unemployed          41188 non-null uint8\n",
      "job_unknown             41188 non-null uint8\n",
      "marital_divorced        41188 non-null uint8\n",
      "marital_married         41188 non-null uint8\n",
      "marital_single          41188 non-null uint8\n",
      "marital_unknown         41188 non-null uint8\n",
      "default_no              41188 non-null uint8\n",
      "default_unknown         41188 non-null uint8\n",
      "default_yes             41188 non-null uint8\n",
      "housing_no              41188 non-null uint8\n",
      "housing_unknown         41188 non-null uint8\n",
      "housing_yes             41188 non-null uint8\n",
      "loan_no                 41188 non-null uint8\n",
      "loan_unknown            41188 non-null uint8\n",
      "loan_yes                41188 non-null uint8\n",
      "poutcome_failure        41188 non-null uint8\n",
      "poutcome_nonexistent    41188 non-null uint8\n",
      "poutcome_success        41188 non-null uint8\n",
      "dtypes: int64(1), uint8(28)\n",
      "memory usage: 1.4 MB\n"
     ]
    },
    {
     "data": {
      "text/plain": [
       "(41188, 29)"
      ]
     },
     "execution_count": 19,
     "metadata": {},
     "output_type": "execute_result"
    }
   ],
   "source": [
    "data2.info()\n",
    "data2.shape"
   ]
  },
  {
   "cell_type": "markdown",
   "metadata": {},
   "source": [
    "###### Drop the unknown columns"
   ]
  },
  {
   "cell_type": "code",
   "execution_count": 20,
   "metadata": {},
   "outputs": [
    {
     "data": {
      "text/plain": [
       "Index(['y', 'job_admin.', 'job_blue-collar', 'job_entrepreneur',\n",
       "       'job_housemaid', 'job_management', 'job_retired', 'job_self-employed',\n",
       "       'job_services', 'job_student', 'job_technician', 'job_unemployed',\n",
       "       'marital_divorced', 'marital_married', 'marital_single', 'default_no',\n",
       "       'default_yes', 'housing_no', 'housing_yes', 'loan_no', 'loan_yes',\n",
       "       'poutcome_failure', 'poutcome_nonexistent', 'poutcome_success'],\n",
       "      dtype='object')"
      ]
     },
     "execution_count": 20,
     "metadata": {},
     "output_type": "execute_result"
    }
   ],
   "source": [
    "data2.drop(data2.columns[[12, 16, 18, 21, 24]], axis=1, inplace=True)\n",
    "data2.columns"
   ]
  },
  {
   "cell_type": "markdown",
   "metadata": {},
   "source": [
    "Perfect! Exactly what we need for the next steps."
   ]
  },
  {
   "cell_type": "markdown",
   "metadata": {},
   "source": [
    "##### Check the independence between the independent variables"
   ]
  },
  {
   "cell_type": "code",
   "execution_count": 21,
   "metadata": {},
   "outputs": [
    {
     "data": {
      "image/png": "[encoded data removed]",
      "text/plain": [
       "<Figure size 432x288 with 2 Axes>"
      ]
     },
     "metadata": {
      "needs_background": "light"
     },
     "output_type": "display_data"
    }
   ],
   "source": [
    "sns.heatmap(data2.corr(method=\"kendall\"))\n",
    "plt.show()\n",
    "#Looks good."
   ]
  },
  {
   "cell_type": "code",
   "execution_count": 23,
   "metadata": {},
   "outputs": [
    {
     "data": {
      "text/html": [
       "<div>\n",
       "<style scoped>\n",
       "    .dataframe tbody tr th:only-of-type {\n",
       "        vertical-align: middle;\n",
       "    }\n",
       "\n",
       "    .dataframe tbody tr th {\n",
       "        vertical-align: top;\n",
       "    }\n",
       "\n",
       "    .dataframe thead th {\n",
       "        text-align: right;\n",
       "    }\n",
       "</style>\n",
       "<table border=\"1\" class=\"dataframe\">\n",
       "  <thead>\n",
       "    <tr style=\"text-align: right;\">\n",
       "      <th></th>\n",
       "      <th>y</th>\n",
       "      <th>job_admin.</th>\n",
       "      <th>job_blue-collar</th>\n",
       "      <th>job_entrepreneur</th>\n",
       "      <th>job_housemaid</th>\n",
       "      <th>job_management</th>\n",
       "      <th>job_retired</th>\n",
       "      <th>job_self-employed</th>\n",
       "      <th>job_services</th>\n",
       "      <th>job_student</th>\n",
       "      <th>...</th>\n",
       "      <th>marital_single</th>\n",
       "      <th>default_no</th>\n",
       "      <th>default_yes</th>\n",
       "      <th>housing_no</th>\n",
       "      <th>housing_yes</th>\n",
       "      <th>loan_no</th>\n",
       "      <th>loan_yes</th>\n",
       "      <th>poutcome_failure</th>\n",
       "      <th>poutcome_nonexistent</th>\n",
       "      <th>poutcome_success</th>\n",
       "    </tr>\n",
       "  </thead>\n",
       "  <tbody>\n",
       "    <tr>\n",
       "      <td>y</td>\n",
       "      <td>1.000000</td>\n",
       "      <td>0.031426</td>\n",
       "      <td>-0.074423</td>\n",
       "      <td>-0.016644</td>\n",
       "      <td>-0.006505</td>\n",
       "      <td>-0.000419</td>\n",
       "      <td>0.092221</td>\n",
       "      <td>-0.004663</td>\n",
       "      <td>-0.032301</td>\n",
       "      <td>0.093955</td>\n",
       "      <td>...</td>\n",
       "      <td>0.054133</td>\n",
       "      <td>0.099344</td>\n",
       "      <td>-0.003041</td>\n",
       "      <td>-0.011085</td>\n",
       "      <td>0.011743</td>\n",
       "      <td>0.005123</td>\n",
       "      <td>-0.004466</td>\n",
       "      <td>0.031799</td>\n",
       "      <td>-0.193507</td>\n",
       "      <td>0.316269</td>\n",
       "    </tr>\n",
       "    <tr>\n",
       "      <td>job_admin.</td>\n",
       "      <td>0.031426</td>\n",
       "      <td>1.000000</td>\n",
       "      <td>-0.313313</td>\n",
       "      <td>-0.111417</td>\n",
       "      <td>-0.094595</td>\n",
       "      <td>-0.160892</td>\n",
       "      <td>-0.121502</td>\n",
       "      <td>-0.110021</td>\n",
       "      <td>-0.190063</td>\n",
       "      <td>-0.085748</td>\n",
       "      <td>...</td>\n",
       "      <td>0.117787</td>\n",
       "      <td>0.121336</td>\n",
       "      <td>-0.004967</td>\n",
       "      <td>-0.008529</td>\n",
       "      <td>0.011128</td>\n",
       "      <td>-0.015485</td>\n",
       "      <td>0.020088</td>\n",
       "      <td>0.002771</td>\n",
       "      <td>-0.015560</td>\n",
       "      <td>0.025069</td>\n",
       "    </tr>\n",
       "    <tr>\n",
       "      <td>job_blue-collar</td>\n",
       "      <td>-0.074423</td>\n",
       "      <td>-0.313313</td>\n",
       "      <td>1.000000</td>\n",
       "      <td>-0.103050</td>\n",
       "      <td>-0.087492</td>\n",
       "      <td>-0.148810</td>\n",
       "      <td>-0.112378</td>\n",
       "      <td>-0.101759</td>\n",
       "      <td>-0.175791</td>\n",
       "      <td>-0.079308</td>\n",
       "      <td>...</td>\n",
       "      <td>-0.100192</td>\n",
       "      <td>-0.176579</td>\n",
       "      <td>-0.004594</td>\n",
       "      <td>0.014033</td>\n",
       "      <td>-0.016031</td>\n",
       "      <td>0.003089</td>\n",
       "      <td>-0.006127</td>\n",
       "      <td>-0.013254</td>\n",
       "      <td>0.043843</td>\n",
       "      <td>-0.061403</td>\n",
       "    </tr>\n",
       "    <tr>\n",
       "      <td>job_entrepreneur</td>\n",
       "      <td>-0.016644</td>\n",
       "      <td>-0.111417</td>\n",
       "      <td>-0.103050</td>\n",
       "      <td>1.000000</td>\n",
       "      <td>-0.031113</td>\n",
       "      <td>-0.052918</td>\n",
       "      <td>-0.039962</td>\n",
       "      <td>-0.036186</td>\n",
       "      <td>-0.062513</td>\n",
       "      <td>-0.028203</td>\n",
       "      <td>...</td>\n",
       "      <td>-0.060245</td>\n",
       "      <td>0.000974</td>\n",
       "      <td>-0.001634</td>\n",
       "      <td>-0.004567</td>\n",
       "      <td>0.004287</td>\n",
       "      <td>0.004789</td>\n",
       "      <td>-0.005449</td>\n",
       "      <td>0.001595</td>\n",
       "      <td>0.007598</td>\n",
       "      <td>-0.017238</td>\n",
       "    </tr>\n",
       "    <tr>\n",
       "      <td>job_housemaid</td>\n",
       "      <td>-0.006505</td>\n",
       "      <td>-0.094595</td>\n",
       "      <td>-0.087492</td>\n",
       "      <td>-0.031113</td>\n",
       "      <td>1.000000</td>\n",
       "      <td>-0.044929</td>\n",
       "      <td>-0.033929</td>\n",
       "      <td>-0.030723</td>\n",
       "      <td>-0.053075</td>\n",
       "      <td>-0.023945</td>\n",
       "      <td>...</td>\n",
       "      <td>-0.060971</td>\n",
       "      <td>-0.036846</td>\n",
       "      <td>-0.001387</td>\n",
       "      <td>0.003620</td>\n",
       "      <td>-0.004689</td>\n",
       "      <td>0.001319</td>\n",
       "      <td>-0.002905</td>\n",
       "      <td>-0.017853</td>\n",
       "      <td>0.014629</td>\n",
       "      <td>0.002276</td>\n",
       "    </tr>\n",
       "    <tr>\n",
       "      <td>job_management</td>\n",
       "      <td>-0.000419</td>\n",
       "      <td>-0.160892</td>\n",
       "      <td>-0.148810</td>\n",
       "      <td>-0.052918</td>\n",
       "      <td>-0.044929</td>\n",
       "      <td>1.000000</td>\n",
       "      <td>-0.057708</td>\n",
       "      <td>-0.052255</td>\n",
       "      <td>-0.090272</td>\n",
       "      <td>-0.040726</td>\n",
       "      <td>...</td>\n",
       "      <td>-0.067364</td>\n",
       "      <td>0.035478</td>\n",
       "      <td>-0.002359</td>\n",
       "      <td>0.007787</td>\n",
       "      <td>-0.007896</td>\n",
       "      <td>0.000953</td>\n",
       "      <td>-0.001201</td>\n",
       "      <td>0.009056</td>\n",
       "      <td>-0.007343</td>\n",
       "      <td>-0.001302</td>\n",
       "    </tr>\n",
       "    <tr>\n",
       "      <td>job_retired</td>\n",
       "      <td>0.092221</td>\n",
       "      <td>-0.121502</td>\n",
       "      <td>-0.112378</td>\n",
       "      <td>-0.039962</td>\n",
       "      <td>-0.033929</td>\n",
       "      <td>-0.057708</td>\n",
       "      <td>1.000000</td>\n",
       "      <td>-0.039462</td>\n",
       "      <td>-0.068171</td>\n",
       "      <td>-0.030756</td>\n",
       "      <td>...</td>\n",
       "      <td>-0.105345</td>\n",
       "      <td>-0.010113</td>\n",
       "      <td>-0.001782</td>\n",
       "      <td>0.001549</td>\n",
       "      <td>-0.002189</td>\n",
       "      <td>0.005822</td>\n",
       "      <td>-0.007076</td>\n",
       "      <td>0.020917</td>\n",
       "      <td>-0.054113</td>\n",
       "      <td>0.068061</td>\n",
       "    </tr>\n",
       "    <tr>\n",
       "      <td>job_self-employed</td>\n",
       "      <td>-0.004663</td>\n",
       "      <td>-0.110021</td>\n",
       "      <td>-0.101759</td>\n",
       "      <td>-0.036186</td>\n",
       "      <td>-0.030723</td>\n",
       "      <td>-0.052255</td>\n",
       "      <td>-0.039462</td>\n",
       "      <td>1.000000</td>\n",
       "      <td>-0.061730</td>\n",
       "      <td>-0.027849</td>\n",
       "      <td>...</td>\n",
       "      <td>-0.005950</td>\n",
       "      <td>0.004812</td>\n",
       "      <td>-0.001613</td>\n",
       "      <td>-0.000392</td>\n",
       "      <td>-0.001166</td>\n",
       "      <td>0.005143</td>\n",
       "      <td>-0.007624</td>\n",
       "      <td>-0.000741</td>\n",
       "      <td>0.007385</td>\n",
       "      <td>-0.012871</td>\n",
       "    </tr>\n",
       "    <tr>\n",
       "      <td>job_services</td>\n",
       "      <td>-0.032301</td>\n",
       "      <td>-0.190063</td>\n",
       "      <td>-0.175791</td>\n",
       "      <td>-0.062513</td>\n",
       "      <td>-0.053075</td>\n",
       "      <td>-0.090272</td>\n",
       "      <td>-0.068171</td>\n",
       "      <td>-0.061730</td>\n",
       "      <td>1.000000</td>\n",
       "      <td>-0.048110</td>\n",
       "      <td>...</td>\n",
       "      <td>0.004078</td>\n",
       "      <td>-0.017667</td>\n",
       "      <td>-0.002787</td>\n",
       "      <td>0.003889</td>\n",
       "      <td>-0.004799</td>\n",
       "      <td>-0.000978</td>\n",
       "      <td>-0.000247</td>\n",
       "      <td>0.010347</td>\n",
       "      <td>0.005760</td>\n",
       "      <td>-0.028558</td>\n",
       "    </tr>\n",
       "    <tr>\n",
       "      <td>job_student</td>\n",
       "      <td>0.093955</td>\n",
       "      <td>-0.085748</td>\n",
       "      <td>-0.079308</td>\n",
       "      <td>-0.028203</td>\n",
       "      <td>-0.023945</td>\n",
       "      <td>-0.040726</td>\n",
       "      <td>-0.030756</td>\n",
       "      <td>-0.027849</td>\n",
       "      <td>-0.048110</td>\n",
       "      <td>1.000000</td>\n",
       "      <td>...</td>\n",
       "      <td>0.216639</td>\n",
       "      <td>0.032601</td>\n",
       "      <td>-0.001257</td>\n",
       "      <td>-0.004941</td>\n",
       "      <td>0.004261</td>\n",
       "      <td>-0.004971</td>\n",
       "      <td>0.004350</td>\n",
       "      <td>0.040214</td>\n",
       "      <td>-0.079189</td>\n",
       "      <td>0.083321</td>\n",
       "    </tr>\n",
       "    <tr>\n",
       "      <td>job_technician</td>\n",
       "      <td>-0.006149</td>\n",
       "      <td>-0.257516</td>\n",
       "      <td>-0.238178</td>\n",
       "      <td>-0.084698</td>\n",
       "      <td>-0.071911</td>\n",
       "      <td>-0.122309</td>\n",
       "      <td>-0.092365</td>\n",
       "      <td>-0.083637</td>\n",
       "      <td>-0.144485</td>\n",
       "      <td>-0.065185</td>\n",
       "      <td>...</td>\n",
       "      <td>0.057404</td>\n",
       "      <td>0.069407</td>\n",
       "      <td>0.011601</td>\n",
       "      <td>-0.009052</td>\n",
       "      <td>0.011001</td>\n",
       "      <td>0.008440</td>\n",
       "      <td>-0.006197</td>\n",
       "      <td>-0.016844</td>\n",
       "      <td>0.017557</td>\n",
       "      <td>-0.005036</td>\n",
       "    </tr>\n",
       "    <tr>\n",
       "      <td>job_unemployed</td>\n",
       "      <td>0.014752</td>\n",
       "      <td>-0.092467</td>\n",
       "      <td>-0.085523</td>\n",
       "      <td>-0.030413</td>\n",
       "      <td>-0.025821</td>\n",
       "      <td>-0.043918</td>\n",
       "      <td>-0.033166</td>\n",
       "      <td>-0.030032</td>\n",
       "      <td>-0.051881</td>\n",
       "      <td>-0.023406</td>\n",
       "      <td>...</td>\n",
       "      <td>-0.011780</td>\n",
       "      <td>-0.010130</td>\n",
       "      <td>0.017003</td>\n",
       "      <td>-0.008957</td>\n",
       "      <td>0.008101</td>\n",
       "      <td>0.000902</td>\n",
       "      <td>-0.002105</td>\n",
       "      <td>-0.005499</td>\n",
       "      <td>-0.007993</td>\n",
       "      <td>0.024612</td>\n",
       "    </tr>\n",
       "    <tr>\n",
       "      <td>marital_divorced</td>\n",
       "      <td>-0.010608</td>\n",
       "      <td>0.020013</td>\n",
       "      <td>-0.056857</td>\n",
       "      <td>0.006657</td>\n",
       "      <td>0.020571</td>\n",
       "      <td>0.001075</td>\n",
       "      <td>0.059814</td>\n",
       "      <td>-0.011017</td>\n",
       "      <td>0.022850</td>\n",
       "      <td>-0.047510</td>\n",
       "      <td>...</td>\n",
       "      <td>-0.221913</td>\n",
       "      <td>0.025001</td>\n",
       "      <td>-0.003031</td>\n",
       "      <td>0.001054</td>\n",
       "      <td>-0.002614</td>\n",
       "      <td>0.002927</td>\n",
       "      <td>-0.005283</td>\n",
       "      <td>0.006550</td>\n",
       "      <td>-0.000257</td>\n",
       "      <td>-0.010612</td>\n",
       "    </tr>\n",
       "    <tr>\n",
       "      <td>marital_married</td>\n",
       "      <td>-0.043398</td>\n",
       "      <td>-0.120494</td>\n",
       "      <td>0.129272</td>\n",
       "      <td>0.051050</td>\n",
       "      <td>0.042492</td>\n",
       "      <td>0.061761</td>\n",
       "      <td>0.057858</td>\n",
       "      <td>0.011968</td>\n",
       "      <td>-0.018202</td>\n",
       "      <td>-0.168294</td>\n",
       "      <td>...</td>\n",
       "      <td>-0.773785</td>\n",
       "      <td>-0.130523</td>\n",
       "      <td>0.006893</td>\n",
       "      <td>0.011827</td>\n",
       "      <td>-0.010674</td>\n",
       "      <td>0.002560</td>\n",
       "      <td>-0.001169</td>\n",
       "      <td>-0.030922</td>\n",
       "      <td>0.043016</td>\n",
       "      <td>-0.029876</td>\n",
       "    </tr>\n",
       "    <tr>\n",
       "      <td>marital_single</td>\n",
       "      <td>0.054133</td>\n",
       "      <td>0.117787</td>\n",
       "      <td>-0.100192</td>\n",
       "      <td>-0.060245</td>\n",
       "      <td>-0.060971</td>\n",
       "      <td>-0.067364</td>\n",
       "      <td>-0.105345</td>\n",
       "      <td>-0.005950</td>\n",
       "      <td>0.004078</td>\n",
       "      <td>0.216639</td>\n",
       "      <td>...</td>\n",
       "      <td>1.000000</td>\n",
       "      <td>0.123661</td>\n",
       "      <td>-0.005334</td>\n",
       "      <td>-0.014452</td>\n",
       "      <td>0.014191</td>\n",
       "      <td>-0.004989</td>\n",
       "      <td>0.004999</td>\n",
       "      <td>0.028194</td>\n",
       "      <td>-0.045493</td>\n",
       "      <td>0.039238</td>\n",
       "    </tr>\n",
       "    <tr>\n",
       "      <td>default_no</td>\n",
       "      <td>0.099344</td>\n",
       "      <td>0.121336</td>\n",
       "      <td>-0.176579</td>\n",
       "      <td>0.000974</td>\n",
       "      <td>-0.036846</td>\n",
       "      <td>0.035478</td>\n",
       "      <td>-0.010113</td>\n",
       "      <td>0.004812</td>\n",
       "      <td>-0.017667</td>\n",
       "      <td>0.032601</td>\n",
       "      <td>...</td>\n",
       "      <td>0.123661</td>\n",
       "      <td>1.000000</td>\n",
       "      <td>-0.016614</td>\n",
       "      <td>-0.014372</td>\n",
       "      <td>0.016749</td>\n",
       "      <td>-0.001928</td>\n",
       "      <td>0.005424</td>\n",
       "      <td>0.072799</td>\n",
       "      <td>-0.104110</td>\n",
       "      <td>0.075763</td>\n",
       "    </tr>\n",
       "    <tr>\n",
       "      <td>default_yes</td>\n",
       "      <td>-0.003041</td>\n",
       "      <td>-0.004967</td>\n",
       "      <td>-0.004594</td>\n",
       "      <td>-0.001634</td>\n",
       "      <td>-0.001387</td>\n",
       "      <td>-0.002359</td>\n",
       "      <td>-0.001782</td>\n",
       "      <td>-0.001613</td>\n",
       "      <td>-0.002787</td>\n",
       "      <td>-0.001257</td>\n",
       "      <td>...</td>\n",
       "      <td>-0.005334</td>\n",
       "      <td>-0.016614</td>\n",
       "      <td>1.000000</td>\n",
       "      <td>0.003679</td>\n",
       "      <td>-0.003256</td>\n",
       "      <td>0.003941</td>\n",
       "      <td>-0.003609</td>\n",
       "      <td>0.006454</td>\n",
       "      <td>-0.004890</td>\n",
       "      <td>-0.001585</td>\n",
       "    </tr>\n",
       "    <tr>\n",
       "      <td>housing_no</td>\n",
       "      <td>-0.011085</td>\n",
       "      <td>-0.008529</td>\n",
       "      <td>0.014033</td>\n",
       "      <td>-0.004567</td>\n",
       "      <td>0.003620</td>\n",
       "      <td>0.007787</td>\n",
       "      <td>0.001549</td>\n",
       "      <td>-0.000392</td>\n",
       "      <td>0.003889</td>\n",
       "      <td>-0.004941</td>\n",
       "      <td>...</td>\n",
       "      <td>-0.014452</td>\n",
       "      <td>-0.014372</td>\n",
       "      <td>0.003679</td>\n",
       "      <td>1.000000</td>\n",
       "      <td>-0.952819</td>\n",
       "      <td>0.091703</td>\n",
       "      <td>-0.036425</td>\n",
       "      <td>-0.021712</td>\n",
       "      <td>0.025171</td>\n",
       "      <td>-0.011349</td>\n",
       "    </tr>\n",
       "    <tr>\n",
       "      <td>housing_yes</td>\n",
       "      <td>0.011743</td>\n",
       "      <td>0.011128</td>\n",
       "      <td>-0.016031</td>\n",
       "      <td>0.004287</td>\n",
       "      <td>-0.004689</td>\n",
       "      <td>-0.007896</td>\n",
       "      <td>-0.002189</td>\n",
       "      <td>-0.001166</td>\n",
       "      <td>-0.004799</td>\n",
       "      <td>0.004261</td>\n",
       "      <td>...</td>\n",
       "      <td>0.014191</td>\n",
       "      <td>0.016749</td>\n",
       "      <td>-0.003256</td>\n",
       "      <td>-0.952819</td>\n",
       "      <td>1.000000</td>\n",
       "      <td>0.012846</td>\n",
       "      <td>0.056651</td>\n",
       "      <td>0.020231</td>\n",
       "      <td>-0.024546</td>\n",
       "      <td>0.012664</td>\n",
       "    </tr>\n",
       "    <tr>\n",
       "      <td>loan_no</td>\n",
       "      <td>0.005123</td>\n",
       "      <td>-0.015485</td>\n",
       "      <td>0.003089</td>\n",
       "      <td>0.004789</td>\n",
       "      <td>0.001319</td>\n",
       "      <td>0.000953</td>\n",
       "      <td>0.005822</td>\n",
       "      <td>0.005143</td>\n",
       "      <td>-0.000978</td>\n",
       "      <td>-0.004971</td>\n",
       "      <td>...</td>\n",
       "      <td>-0.004989</td>\n",
       "      <td>-0.001928</td>\n",
       "      <td>0.003941</td>\n",
       "      <td>0.091703</td>\n",
       "      <td>0.012846</td>\n",
       "      <td>1.000000</td>\n",
       "      <td>-0.915840</td>\n",
       "      <td>-0.001843</td>\n",
       "      <td>0.000467</td>\n",
       "      <td>0.002231</td>\n",
       "    </tr>\n",
       "    <tr>\n",
       "      <td>loan_yes</td>\n",
       "      <td>-0.004466</td>\n",
       "      <td>0.020088</td>\n",
       "      <td>-0.006127</td>\n",
       "      <td>-0.005449</td>\n",
       "      <td>-0.002905</td>\n",
       "      <td>-0.001201</td>\n",
       "      <td>-0.007076</td>\n",
       "      <td>-0.007624</td>\n",
       "      <td>-0.000247</td>\n",
       "      <td>0.004350</td>\n",
       "      <td>...</td>\n",
       "      <td>0.004999</td>\n",
       "      <td>0.005424</td>\n",
       "      <td>-0.003609</td>\n",
       "      <td>-0.036425</td>\n",
       "      <td>0.056651</td>\n",
       "      <td>-0.915840</td>\n",
       "      <td>1.000000</td>\n",
       "      <td>-0.000001</td>\n",
       "      <td>0.000253</td>\n",
       "      <td>-0.000481</td>\n",
       "    </tr>\n",
       "    <tr>\n",
       "      <td>poutcome_failure</td>\n",
       "      <td>0.031799</td>\n",
       "      <td>0.002771</td>\n",
       "      <td>-0.013254</td>\n",
       "      <td>0.001595</td>\n",
       "      <td>-0.017853</td>\n",
       "      <td>0.009056</td>\n",
       "      <td>0.020917</td>\n",
       "      <td>-0.000741</td>\n",
       "      <td>0.010347</td>\n",
       "      <td>0.040214</td>\n",
       "      <td>...</td>\n",
       "      <td>0.028194</td>\n",
       "      <td>0.072799</td>\n",
       "      <td>0.006454</td>\n",
       "      <td>-0.021712</td>\n",
       "      <td>0.020231</td>\n",
       "      <td>-0.001843</td>\n",
       "      <td>-0.000001</td>\n",
       "      <td>1.000000</td>\n",
       "      <td>-0.853119</td>\n",
       "      <td>-0.063006</td>\n",
       "    </tr>\n",
       "    <tr>\n",
       "      <td>poutcome_nonexistent</td>\n",
       "      <td>-0.193507</td>\n",
       "      <td>-0.015560</td>\n",
       "      <td>0.043843</td>\n",
       "      <td>0.007598</td>\n",
       "      <td>0.014629</td>\n",
       "      <td>-0.007343</td>\n",
       "      <td>-0.054113</td>\n",
       "      <td>0.007385</td>\n",
       "      <td>0.005760</td>\n",
       "      <td>-0.079189</td>\n",
       "      <td>...</td>\n",
       "      <td>-0.045493</td>\n",
       "      <td>-0.104110</td>\n",
       "      <td>-0.004890</td>\n",
       "      <td>0.025171</td>\n",
       "      <td>-0.024546</td>\n",
       "      <td>0.000467</td>\n",
       "      <td>0.000253</td>\n",
       "      <td>-0.853119</td>\n",
       "      <td>1.000000</td>\n",
       "      <td>-0.466928</td>\n",
       "    </tr>\n",
       "    <tr>\n",
       "      <td>poutcome_success</td>\n",
       "      <td>0.316269</td>\n",
       "      <td>0.025069</td>\n",
       "      <td>-0.061403</td>\n",
       "      <td>-0.017238</td>\n",
       "      <td>0.002276</td>\n",
       "      <td>-0.001302</td>\n",
       "      <td>0.068061</td>\n",
       "      <td>-0.012871</td>\n",
       "      <td>-0.028558</td>\n",
       "      <td>0.083321</td>\n",
       "      <td>...</td>\n",
       "      <td>0.039238</td>\n",
       "      <td>0.075763</td>\n",
       "      <td>-0.001585</td>\n",
       "      <td>-0.011349</td>\n",
       "      <td>0.012664</td>\n",
       "      <td>0.002231</td>\n",
       "      <td>-0.000481</td>\n",
       "      <td>-0.063006</td>\n",
       "      <td>-0.466928</td>\n",
       "      <td>1.000000</td>\n",
       "    </tr>\n",
       "  </tbody>\n",
       "</table>\n",
       "<p>24 rows × 24 columns</p>\n",
       "</div>"
      ],
      "text/plain": [
       "                             y  job_admin.  job_blue-collar  job_entrepreneur  \\\n",
       "y                     1.000000    0.031426        -0.074423         -0.016644   \n",
       "job_admin.            0.031426    1.000000        -0.313313         -0.111417   \n",
       "job_blue-collar      -0.074423   -0.313313         1.000000         -0.103050   \n",
       "job_entrepreneur     -0.016644   -0.111417        -0.103050          1.000000   \n",
       "job_housemaid        -0.006505   -0.094595        -0.087492         -0.031113   \n",
       "job_management       -0.000419   -0.160892        -0.148810         -0.052918   \n",
       "job_retired           0.092221   -0.121502        -0.112378         -0.039962   \n",
       "job_self-employed    -0.004663   -0.110021        -0.101759         -0.036186   \n",
       "job_services         -0.032301   -0.190063        -0.175791         -0.062513   \n",
       "job_student           0.093955   -0.085748        -0.079308         -0.028203   \n",
       "job_technician       -0.006149   -0.257516        -0.238178         -0.084698   \n",
       "job_unemployed        0.014752   -0.092467        -0.085523         -0.030413   \n",
       "marital_divorced     -0.010608    0.020013        -0.056857          0.006657   \n",
       "marital_married      -0.043398   -0.120494         0.129272          0.051050   \n",
       "marital_single        0.054133    0.117787        -0.100192         -0.060245   \n",
       "default_no            0.099344    0.121336        -0.176579          0.000974   \n",
       "default_yes          -0.003041   -0.004967        -0.004594         -0.001634   \n",
       "housing_no           -0.011085   -0.008529         0.014033         -0.004567   \n",
       "housing_yes           0.011743    0.011128        -0.016031          0.004287   \n",
       "loan_no               0.005123   -0.015485         0.003089          0.004789   \n",
       "loan_yes             -0.004466    0.020088        -0.006127         -0.005449   \n",
       "poutcome_failure      0.031799    0.002771        -0.013254          0.001595   \n",
       "poutcome_nonexistent -0.193507   -0.015560         0.043843          0.007598   \n",
       "poutcome_success      0.316269    0.025069        -0.061403         -0.017238   \n",
       "\n",
       "                      job_housemaid  job_management  job_retired  \\\n",
       "y                         -0.006505       -0.000419     0.092221   \n",
       "job_admin.                -0.094595       -0.160892    -0.121502   \n",
       "job_blue-collar           -0.087492       -0.148810    -0.112378   \n",
       "job_entrepreneur          -0.031113       -0.052918    -0.039962   \n",
       "job_housemaid              1.000000       -0.044929    -0.033929   \n",
       "job_management            -0.044929        1.000000    -0.057708   \n",
       "job_retired               -0.033929       -0.057708     1.000000   \n",
       "job_self-employed         -0.030723       -0.052255    -0.039462   \n",
       "job_services              -0.053075       -0.090272    -0.068171   \n",
       "job_student               -0.023945       -0.040726    -0.030756   \n",
       "job_technician            -0.071911       -0.122309    -0.092365   \n",
       "job_unemployed            -0.025821       -0.043918    -0.033166   \n",
       "marital_divorced           0.020571        0.001075     0.059814   \n",
       "marital_married            0.042492        0.061761     0.057858   \n",
       "marital_single            -0.060971       -0.067364    -0.105345   \n",
       "default_no                -0.036846        0.035478    -0.010113   \n",
       "default_yes               -0.001387       -0.002359    -0.001782   \n",
       "housing_no                 0.003620        0.007787     0.001549   \n",
       "housing_yes               -0.004689       -0.007896    -0.002189   \n",
       "loan_no                    0.001319        0.000953     0.005822   \n",
       "loan_yes                  -0.002905       -0.001201    -0.007076   \n",
       "poutcome_failure          -0.017853        0.009056     0.020917   \n",
       "poutcome_nonexistent       0.014629       -0.007343    -0.054113   \n",
       "poutcome_success           0.002276       -0.001302     0.068061   \n",
       "\n",
       "                      job_self-employed  job_services  job_student  ...  \\\n",
       "y                             -0.004663     -0.032301     0.093955  ...   \n",
       "job_admin.                    -0.110021     -0.190063    -0.085748  ...   \n",
       "job_blue-collar               -0.101759     -0.175791    -0.079308  ...   \n",
       "job_entrepreneur              -0.036186     -0.062513    -0.028203  ...   \n",
       "job_housemaid                 -0.030723     -0.053075    -0.023945  ...   \n",
       "job_management                -0.052255     -0.090272    -0.040726  ...   \n",
       "job_retired                   -0.039462     -0.068171    -0.030756  ...   \n",
       "job_self-employed              1.000000     -0.061730    -0.027849  ...   \n",
       "job_services                  -0.061730      1.000000    -0.048110  ...   \n",
       "job_student                   -0.027849     -0.048110     1.000000  ...   \n",
       "job_technician                -0.083637     -0.144485    -0.065185  ...   \n",
       "job_unemployed                -0.030032     -0.051881    -0.023406  ...   \n",
       "marital_divorced              -0.011017      0.022850    -0.047510  ...   \n",
       "marital_married                0.011968     -0.018202    -0.168294  ...   \n",
       "marital_single                -0.005950      0.004078     0.216639  ...   \n",
       "default_no                     0.004812     -0.017667     0.032601  ...   \n",
       "default_yes                   -0.001613     -0.002787    -0.001257  ...   \n",
       "housing_no                    -0.000392      0.003889    -0.004941  ...   \n",
       "housing_yes                   -0.001166     -0.004799     0.004261  ...   \n",
       "loan_no                        0.005143     -0.000978    -0.004971  ...   \n",
       "loan_yes                      -0.007624     -0.000247     0.004350  ...   \n",
       "poutcome_failure              -0.000741      0.010347     0.040214  ...   \n",
       "poutcome_nonexistent           0.007385      0.005760    -0.079189  ...   \n",
       "poutcome_success              -0.012871     -0.028558     0.083321  ...   \n",
       "\n",
       "                      marital_single  default_no  default_yes  housing_no  \\\n",
       "y                           0.054133    0.099344    -0.003041   -0.011085   \n",
       "job_admin.                  0.117787    0.121336    -0.004967   -0.008529   \n",
       "job_blue-collar            -0.100192   -0.176579    -0.004594    0.014033   \n",
       "job_entrepreneur           -0.060245    0.000974    -0.001634   -0.004567   \n",
       "job_housemaid              -0.060971   -0.036846    -0.001387    0.003620   \n",
       "job_management             -0.067364    0.035478    -0.002359    0.007787   \n",
       "job_retired                -0.105345   -0.010113    -0.001782    0.001549   \n",
       "job_self-employed          -0.005950    0.004812    -0.001613   -0.000392   \n",
       "job_services                0.004078   -0.017667    -0.002787    0.003889   \n",
       "job_student                 0.216639    0.032601    -0.001257   -0.004941   \n",
       "job_technician              0.057404    0.069407     0.011601   -0.009052   \n",
       "job_unemployed             -0.011780   -0.010130     0.017003   -0.008957   \n",
       "marital_divorced           -0.221913    0.025001    -0.003031    0.001054   \n",
       "marital_married            -0.773785   -0.130523     0.006893    0.011827   \n",
       "marital_single              1.000000    0.123661    -0.005334   -0.014452   \n",
       "default_no                  0.123661    1.000000    -0.016614   -0.014372   \n",
       "default_yes                -0.005334   -0.016614     1.000000    0.003679   \n",
       "housing_no                 -0.014452   -0.014372     0.003679    1.000000   \n",
       "housing_yes                 0.014191    0.016749    -0.003256   -0.952819   \n",
       "loan_no                    -0.004989   -0.001928     0.003941    0.091703   \n",
       "loan_yes                    0.004999    0.005424    -0.003609   -0.036425   \n",
       "poutcome_failure            0.028194    0.072799     0.006454   -0.021712   \n",
       "poutcome_nonexistent       -0.045493   -0.104110    -0.004890    0.025171   \n",
       "poutcome_success            0.039238    0.075763    -0.001585   -0.011349   \n",
       "\n",
       "                      housing_yes   loan_no  loan_yes  poutcome_failure  \\\n",
       "y                        0.011743  0.005123 -0.004466          0.031799   \n",
       "job_admin.               0.011128 -0.015485  0.020088          0.002771   \n",
       "job_blue-collar         -0.016031  0.003089 -0.006127         -0.013254   \n",
       "job_entrepreneur         0.004287  0.004789 -0.005449          0.001595   \n",
       "job_housemaid           -0.004689  0.001319 -0.002905         -0.017853   \n",
       "job_management          -0.007896  0.000953 -0.001201          0.009056   \n",
       "job_retired             -0.002189  0.005822 -0.007076          0.020917   \n",
       "job_self-employed       -0.001166  0.005143 -0.007624         -0.000741   \n",
       "job_services            -0.004799 -0.000978 -0.000247          0.010347   \n",
       "job_student              0.004261 -0.004971  0.004350          0.040214   \n",
       "job_technician           0.011001  0.008440 -0.006197         -0.016844   \n",
       "job_unemployed           0.008101  0.000902 -0.002105         -0.005499   \n",
       "marital_divorced        -0.002614  0.002927 -0.005283          0.006550   \n",
       "marital_married         -0.010674  0.002560 -0.001169         -0.030922   \n",
       "marital_single           0.014191 -0.004989  0.004999          0.028194   \n",
       "default_no               0.016749 -0.001928  0.005424          0.072799   \n",
       "default_yes             -0.003256  0.003941 -0.003609          0.006454   \n",
       "housing_no              -0.952819  0.091703 -0.036425         -0.021712   \n",
       "housing_yes              1.000000  0.012846  0.056651          0.020231   \n",
       "loan_no                  0.012846  1.000000 -0.915840         -0.001843   \n",
       "loan_yes                 0.056651 -0.915840  1.000000         -0.000001   \n",
       "poutcome_failure         0.020231 -0.001843 -0.000001          1.000000   \n",
       "poutcome_nonexistent    -0.024546  0.000467  0.000253         -0.853119   \n",
       "poutcome_success         0.012664  0.002231 -0.000481         -0.063006   \n",
       "\n",
       "                      poutcome_nonexistent  poutcome_success  \n",
       "y                                -0.193507          0.316269  \n",
       "job_admin.                       -0.015560          0.025069  \n",
       "job_blue-collar                   0.043843         -0.061403  \n",
       "job_entrepreneur                  0.007598         -0.017238  \n",
       "job_housemaid                     0.014629          0.002276  \n",
       "job_management                   -0.007343         -0.001302  \n",
       "job_retired                      -0.054113          0.068061  \n",
       "job_self-employed                 0.007385         -0.012871  \n",
       "job_services                      0.005760         -0.028558  \n",
       "job_student                      -0.079189          0.083321  \n",
       "job_technician                    0.017557         -0.005036  \n",
       "job_unemployed                   -0.007993          0.024612  \n",
       "marital_divorced                 -0.000257         -0.010612  \n",
       "marital_married                   0.043016         -0.029876  \n",
       "marital_single                   -0.045493          0.039238  \n",
       "default_no                       -0.104110          0.075763  \n",
       "default_yes                      -0.004890         -0.001585  \n",
       "housing_no                        0.025171         -0.011349  \n",
       "housing_yes                      -0.024546          0.012664  \n",
       "loan_no                           0.000467          0.002231  \n",
       "loan_yes                          0.000253         -0.000481  \n",
       "poutcome_failure                 -0.853119         -0.063006  \n",
       "poutcome_nonexistent              1.000000         -0.466928  \n",
       "poutcome_success                 -0.466928          1.000000  \n",
       "\n",
       "[24 rows x 24 columns]"
      ]
     },
     "execution_count": 23,
     "metadata": {},
     "output_type": "execute_result"
    }
   ],
   "source": [
    "correlations=data2.corr() #correlation across all festures including output columns\n",
    "correlations"
   ]
  },
  {
   "cell_type": "markdown",
   "metadata": {},
   "source": [
    "##### difficult to understand correlation matrix values,as it is huge and complex in nature\n",
    "##### Lets draw/plot a correlation plot"
   ]
  },
  {
   "cell_type": "code",
   "execution_count": 24,
   "metadata": {},
   "outputs": [
    {
     "data": {
      "image/png": "[encoded data removed]",
      "text/plain": [
       "<Figure size 720x864 with 2 Axes>"
      ]
     },
     "metadata": {
      "needs_background": "light"
     },
     "output_type": "display_data"
    }
   ],
   "source": [
    "fig = plt.figure(figsize=(10,12))\n",
    "ax = fig.add_subplot(111)\n",
    "cax = ax.matshow(correlations, vmin=-1, vmax=1)\n",
    "fig.colorbar(cax)\n",
    "plt.show()"
   ]
  },
  {
   "cell_type": "code",
   "execution_count": 25,
   "metadata": {},
   "outputs": [],
   "source": [
    "#You can use VIF to remove highly correlated columns"
   ]
  },
  {
   "cell_type": "markdown",
   "metadata": {},
   "source": [
    "#### Feature selection based on correlation matrix\n",
    "#### Removing columns with correlations greater than 0.9"
   ]
  },
  {
   "cell_type": "code",
   "execution_count": 26,
   "metadata": {},
   "outputs": [],
   "source": [
    "columns = np.full((correlations.shape[0],), True, dtype=bool)\n",
    "for i in range(correlations.shape[0]):\n",
    "    for j in range(i+1, correlations.shape[0]):\n",
    "        if correlations.iloc[i,j] >= 0.9:\n",
    "            if columns[j]:\n",
    "                columns[j] = False\n",
    "selected_columns = data2.columns[columns]\n",
    "data_final_1 = data2[selected_columns]"
   ]
  },
  {
   "cell_type": "code",
   "execution_count": 27,
   "metadata": {},
   "outputs": [
    {
     "data": {
      "text/plain": [
       "(41188, 24)"
      ]
     },
     "execution_count": 27,
     "metadata": {},
     "output_type": "execute_result"
    }
   ],
   "source": [
    "data_final_1.shape#This removed 5 columns"
   ]
  },
  {
   "cell_type": "markdown",
   "metadata": {},
   "source": [
    "###### Split the data into training and test sets and Check out training data is sufficient"
   ]
  },
  {
   "cell_type": "code",
   "execution_count": 28,
   "metadata": {},
   "outputs": [
    {
     "data": {
      "text/plain": [
       "(30891, 23)"
      ]
     },
     "execution_count": 28,
     "metadata": {},
     "output_type": "execute_result"
    }
   ],
   "source": [
    "X = data_final_1.iloc[:,1:]\n",
    "y = data_final_1.iloc[:,0]\n",
    "X_train, X_test, y_train, y_test = train_test_split(X, y, random_state=0)# by default 75/25 ratio for train and test set\n",
    "X_train.shape"
   ]
  },
  {
   "cell_type": "markdown",
   "metadata": {},
   "source": [
    "Great! Now we can start building our logistic regression model."
   ]
  },
  {
   "cell_type": "markdown",
   "metadata": {},
   "source": [
    "#### Logistic Regression Model"
   ]
  },
  {
   "cell_type": "markdown",
   "metadata": {},
   "source": [
    "#### Fit logistic regression to the training set"
   ]
  },
  {
   "cell_type": "code",
   "execution_count": 29,
   "metadata": {},
   "outputs": [
    {
     "name": "stderr",
     "output_type": "stream",
     "text": [
      "C:\\Users\\kishan\\Anaconda3\\lib\\site-packages\\sklearn\\linear_model\\logistic.py:432: FutureWarning: Default solver will be changed to 'lbfgs' in 0.22. Specify a solver to silence this warning.\n",
      "  FutureWarning)\n"
     ]
    },
    {
     "data": {
      "text/plain": [
       "LogisticRegression(C=1.0, class_weight=None, dual=False, fit_intercept=True,\n",
       "                   intercept_scaling=1, l1_ratio=None, max_iter=100,\n",
       "                   multi_class='warn', n_jobs=None, penalty='l2',\n",
       "                   random_state=0, solver='warn', tol=0.0001, verbose=0,\n",
       "                   warm_start=False)"
      ]
     },
     "execution_count": 29,
     "metadata": {},
     "output_type": "execute_result"
    }
   ],
   "source": [
    "classifier = LogisticRegression(random_state=0)#initialising the model\n",
    "classifier.fit(X_train, y_train)#Traning over training set"
   ]
  },
  {
   "cell_type": "markdown",
   "metadata": {},
   "source": [
    "#### Predicting the test set results and creating confusion matrix\n",
    "The confusion_matrix() function will calculate a confusion matrix and return the result as an array."
   ]
  },
  {
   "cell_type": "code",
   "execution_count": 30,
   "metadata": {},
   "outputs": [
    {
     "name": "stdout",
     "output_type": "stream",
     "text": [
      "[[9046  110]\n",
      " [ 912  229]]\n"
     ]
    }
   ],
   "source": [
    "y_pred = classifier.predict(X_test)\n",
    "from sklearn.metrics import confusion_matrix\n",
    "confusion_matrix = confusion_matrix(y_test, y_pred)\n",
    "print(confusion_matrix)"
   ]
  },
  {
   "cell_type": "markdown",
   "metadata": {},
   "source": [
    "The result is telling us that we have 9046+229 correct predictions and 912+110 incorrect predictions.\n",
    "#### Accuracy"
   ]
  },
  {
   "cell_type": "code",
   "execution_count": 31,
   "metadata": {},
   "outputs": [
    {
     "name": "stdout",
     "output_type": "stream",
     "text": [
      "Accuracy of logistic regression classifier on test set: 0.90\n"
     ]
    }
   ],
   "source": [
    "print('Accuracy of logistic regression classifier on test set: {:.2f}'.format(classifier.score(X_test, y_test)))"
   ]
  },
  {
   "cell_type": "markdown",
   "metadata": {},
   "source": [
    "#### Compute precision, recall, F-measure and support\n",
    "To quote from Scikit Learn:\n",
    "The precision is the ratio tp / (tp + fp) where tp is the number of true positives and fp the number of false positives. The precision is intuitively the ability of the classifier to not label a sample as positive if it is negative.\n",
    "The recall is the ratio tp / (tp + fn) where tp is the number of true positives and fn the number of false negatives. The recall is intuitively the ability of the classifier to find all the positive samples.\n",
    "The F-beta score can be interpreted as a weighted harmonic mean of the precision and recall, where an F-beta score reaches its best value at 1 and worst score at 0.\n",
    "The F-beta score weights the recall more than the precision by a factor of beta. beta = 1.0 means recall and precision are equally important.\n",
    "The support is the number of occurrences of each class in y_test."
   ]
  },
  {
   "cell_type": "code",
   "execution_count": 32,
   "metadata": {},
   "outputs": [
    {
     "name": "stdout",
     "output_type": "stream",
     "text": [
      "              precision    recall  f1-score   support\n",
      "\n",
      "           0       0.91      0.99      0.95      9156\n",
      "           1       0.68      0.20      0.31      1141\n",
      "\n",
      "    accuracy                           0.90     10297\n",
      "   macro avg       0.79      0.59      0.63     10297\n",
      "weighted avg       0.88      0.90      0.88     10297\n",
      "\n"
     ]
    }
   ],
   "source": [
    "from sklearn.metrics import classification_report\n",
    "print(classification_report(y_test, y_pred))"
   ]
  },
  {
   "cell_type": "markdown",
   "metadata": {},
   "source": [
    "Interpretation:  Of the entire test set, 90% of the customer’s preferred term deposits that were promoted.\n",
    "#### Classifier visualization playground\n",
    "The purpose of this section is to visualize logistic regression classsifiers’ decision boundaries. In order to better vizualize the decision boundaries, we’ll perform Principal Component Analysis (PCA) on the data to reduce the dimensionality to 2 dimensions."
   ]
  },
  {
   "cell_type": "code",
   "execution_count": 33,
   "metadata": {},
   "outputs": [
    {
     "data": {
      "image/png": "[encoded data removed]",
      "text/plain": [
       "<Figure size 720x480 with 1 Axes>"
      ]
     },
     "metadata": {
      "needs_background": "light"
     },
     "output_type": "display_data"
    }
   ],
   "source": [
    "from sklearn.decomposition import PCA\n",
    "X = data_final_1.iloc[:,1:]\n",
    "y = data_final_1.iloc[:,0]\n",
    "pca = PCA(n_components=2).fit_transform(X) #plotting 2 principle components\n",
    "X_train, X_test, y_train, y_test = train_test_split(pca, y, random_state=0)\n",
    "\n",
    "plt.figure(dpi=120)\n",
    "plt.scatter(pca[y.values==0,0], pca[y.values==0,1], alpha=0.5, label='YES', s=2, color='navy')\n",
    "plt.scatter(pca[y.values==1,0], pca[y.values==1,1], alpha=0.5, label='NO', s=2, color='darkorange')\n",
    "plt.legend()\n",
    "plt.title('Bank Marketing Data Set\\nFirst Two Principal Components')\n",
    "plt.xlabel('PC1')\n",
    "plt.ylabel('PC2')\n",
    "plt.gca().set_aspect('equal')\n",
    "plt.show()"
   ]
  },
  {
   "cell_type": "markdown",
   "metadata": {},
   "source": [
    "As you can see, the PCA has reduced the accuracy of our Logistic Regression model. This is because we use PCA to reduce the amount of the dimension, so we have removed information from our data."
   ]
  },
  {
   "cell_type": "markdown",
   "metadata": {},
   "source": [
    "## for Improving the model\n",
    "#### Choose best model out of several classification models\n",
    "#### perform hyper tuning on best model\n",
    "#### Do the prediction and evaluation\n",
    "#### Understand the result and prediction"
   ]
  },
  {
   "cell_type": "code",
   "execution_count": null,
   "metadata": {},
   "outputs": [],
   "source": []
  }
 ],
 "metadata": {
  "kernelspec": {
   "display_name": "Python 3",
   "language": "python",
   "name": "python3"
  },
  "language_info": {
   "codemirror_mode": {
    "name": "ipython",
    "version": 3
   },
   "file_extension": ".py",
   "mimetype": "text/x-python",
   "name": "python",
   "nbconvert_exporter": "python",
   "pygments_lexer": "ipython3",
   "version": "3.7.4"
  }
 },
 "nbformat": 4,
 "nbformat_minor": 1
}
